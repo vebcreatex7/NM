{
 "cells": [
  {
   "cell_type": "code",
   "execution_count": 1,
   "source": [
    "import random\n",
    "import matplotlib.pyplot as plt\n",
    "import math\n",
    "import sys\n",
    "import warnings\n",
    "import numpy as np"
   ],
   "outputs": [],
   "metadata": {}
  },
  {
   "cell_type": "markdown",
   "source": [
    "Уравнение\n",
    "\n",
    "$$\\frac{\\partial u}{\\partial t} = a \\frac{\\partial^2 u}{\\partial x^2} + b\\frac{\\partial u}{\\partial x}, a > 0, b > 0$$\n",
    "\n",
    "Граничные условия\n",
    "\n",
    "$$u_x(0,t)-u(0,t) = -e^{-at}(cos(bt) + sin(bt)),\\\\\n",
    "u_x(\\pi,t)-u(\\pi,t) = e^{-at}(cos(bt) + sin(bt))$$\n",
    "\n",
    "Начальное условие\n",
    "\n",
    "$$u(x,0) = cos(x)$$\n",
    "\n",
    "Аналитическое решение\n",
    "\n",
    "$$U(x,t) = e^{(-at)}cos(x+bt)$$"
   ],
   "metadata": {}
  },
  {
   "cell_type": "code",
   "execution_count": 2,
   "source": [
    "def phi_0(t, a = 1., b = 1.):\n",
    "    return -np.exp(-a * t) * (np.cos(b * t) + np.sin(b * t))\n",
    "\n",
    "def phi_l(t, a = 1., b = 1.):\n",
    "    return np.exp(-a * t) * (np.cos(b * t) + np.sin(b * t))\n",
    "\n",
    "def u_0(x):\n",
    "    return np.cos(x)\n",
    "\n",
    "def U(x, t, a = 1., b = 1.):\n",
    "    return np.exp(-a * t) * np.cos(x + b * t)\n"
   ],
   "outputs": [],
   "metadata": {}
  },
  {
   "cell_type": "code",
   "execution_count": 3,
   "source": [
    "class Grid:\n",
    "    def __init__(self, a=1, b=1, alpha = 1, beta = -1, gamma = 1, delta = -1,\n",
    "                 phi_0 = phi_0, phi_l = phi_l, u0 = u_0, theta = 0.5, l0 = 0, l1 = np.pi, T=5, aprx_cls=None):\n",
    "        self.phi_0 = lambda t: phi_0(t,a,b)\n",
    "        self.phi_l = lambda t: phi_l(t,a,b)\n",
    "        self.a = a\n",
    "        self.b = b\n",
    "        self.alpha = alpha\n",
    "        self.beta = beta\n",
    "        self.gamma = gamma\n",
    "        self.delta = delta\n",
    "        self.T = T\n",
    "        self.h = None\n",
    "        self.tau = None\n",
    "        self.u0 = u0\n",
    "        self.l0 = l0\n",
    "        self.l1 = l1\n",
    "        self.theta = theta\n",
    "        self.approx = None\n",
    "        if aprx_cls is not None:\n",
    "            self._init_approx(aprx_cls)\n",
    "        self.sigma = None\n",
    "        self.xi = None\n",
    "    \n",
    "    def _init_approx(self, a_cls):\n",
    "        self.approx = a_cls(self.phi_0, self.phi_l, self.alpha, self.beta, self.gamma, self.delta)\n",
    "\n",
    "    def set_approx(self, aprx_cls):\n",
    "        self._init_approx(self, aprx_cls)\n",
    "\n",
    "    def set_l0l1(self, l0, l1):\n",
    "        self.l0 = l0\n",
    "        self.l1 = l1\n",
    "\n",
    "    def set_T(self, T):\n",
    "        self.T = T\n",
    "\n",
    "    def set_h(self, N):\n",
    "        self.h = (self.l1 - self.l0) / N\n",
    "\n",
    "    def set_tau(self, K):\n",
    "        self.tau = self.T / K\n",
    "\n",
    "    def set_sigma(self):\n",
    "        self.sigma = self.a * self.tau / (self.h * self.h)\n",
    "\n",
    "    def set_xi(self):\n",
    "        self.xi = self.b * self.tau / (2. * self.h)\n",
    "\n",
    "    @staticmethod\n",
    "    def nparange(start, end, step = 1):\n",
    "        now = start\n",
    "        e = 1e-7\n",
    "        while now - e <= end:\n",
    "            yield now\n",
    "            now += step\n",
    "        \n",
    "    def set_line(self, t, x, prev_line):\n",
    "        pass\n",
    "    \n",
    "    def __call__(self, N=50, K=100):\n",
    "        N, K = N-1, K-1\n",
    "        self.set_tau(K)\n",
    "        self.set_h(N)\n",
    "        self.set_sigma()\n",
    "        self.set_xi()\n",
    "        ans = []\n",
    "\n",
    "        x = list(self.nparange(self.l0, self.l1, self.h))\n",
    "        \n",
    "        prev_line = list(map(self.u0, x))\n",
    "        \n",
    "        ans.append(list(prev_line))\n",
    "        X = []\n",
    "        Y = []\n",
    "        X.append(x)\n",
    "        Y.append([0.0 for _ in x])\n",
    "        \n",
    "        for t in self.nparange(self.tau, self.T, self.tau):\n",
    "            \n",
    "            ans.append(self.set_line(t, x, prev_line))\n",
    "            #X.append(x)\n",
    "            Y.append([t for _ in x])\n",
    "            \n",
    "            prev_line = ans[-1]\n",
    "        return X, Y, ans\n"
   ],
   "outputs": [],
   "metadata": {}
  },
  {
   "cell_type": "markdown",
   "source": [
    "Аппроксимируем вторую производную по значениям нижнего временного слоя $t^k$:\n",
    "\n",
    "$$\\frac{u_j^{k+1}-u_j^k}{\\tau} = a \\frac{u_{j+1}^{k}-2u_j^{k} + u_{j-1}^{k}}{h^2} + b \\frac{u_{j+1}^{k} - u_{j-1}^{k}}{2h}, j = 1,..,N-1$$\n",
    "\n",
    "Получим явную схему конечно-разностного метода.\n",
    "\n",
    "Обозначим $\\sigma = \\frac{a \\tau}{h^2}, \\xi = \\frac{b \\tau}{2h}$ тогда:\n",
    "\n",
    "$$u_j^{k+1} = (\\sigma + \\xi)u_{j-1}^k + (1 - 2\\sigma)u_j^k + (\\sigma + \\xi)u_{j+1}^k$$\n",
    "\n",
    "Граничные значения определяются граничными условиями. "
   ],
   "metadata": {}
  },
  {
   "cell_type": "code",
   "execution_count": 4,
   "source": [
    "class Explicit(Grid):\n",
    "    def set_sigma(self):\n",
    "        self.sigma = self.a * self.tau / (self.h * self.h)\n",
    "        if self.sigma > 0.5:\n",
    "            warnings.warn(\"Sigma > 0.5\")\n",
    "    def set_xi(self):\n",
    "        self.xi = self.b * self.tau / (2 * self.h)\n",
    "\n",
    "    def set_line(self, t, x, prev_line):\n",
    "        new_line = [None for _ in prev_line]\n",
    "        for i in range(1, len(x) - 1):\n",
    "            new_line[i] = ((self.sigma + self.xi) * prev_line[i - 1] +\n",
    "                            (1. - 2. * self.sigma) * prev_line[i] +\n",
    "                            (self.sigma - self.xi) * prev_line[i + 1])\n",
    "        new_line[0] = self.approx.explicit_0(t, self.h, self.sigma, self.xi,\n",
    "                                                prev_line, new_line, t - self.tau)\n",
    "        new_line[-1] = self.approx.explicit_l(t, self.h, self.sigma, self.xi,\n",
    "                                                prev_line, new_line, t - self.tau)\n",
    "        return new_line"
   ],
   "outputs": [],
   "metadata": {}
  },
  {
   "cell_type": "markdown",
   "source": [
    "Поскольку решение в зависимости от времени лежит между значениями явно и неявной схемы, введем явно-неявную схему.\\\\\n",
    "\n",
    "Аппроксимируем вторую производную по значениям верхнего временного слоя $t^{k+1}$\n",
    "\n",
    "$$\\frac{u_j^{k+1}-u_j^k}{\\tau} =\\theta \\left(a \\frac{u_{j+1}^{k+1}-2u_j^{k+1} + u_{j-1}^{k+1}}{h^2} + b \\frac{u_{j+1}^{k+1} - u_{j-1}^{k+1}}{2h} \\right) +  (1 -\\theta) \\left(a \\frac{u_{j+1}^{k}-2u_j^{k} + u_{j-1}^{k}}{h^2} + b \\frac{u_{j+1}^{k} - u_{j-1}^{k}}{2h} \\right), j = 1,..,N-1$$\n",
    "\n",
    "$\\theta = 1/2$ - схема Кранка-Николсона.\n",
    "\n",
    "$\\theta = 1$ - неявная схема.\n",
    "\n",
    "Приведем подобные слгаемые и сделаем замену: $\\sigma = \\frac{a \\tau}{h^2}, \\xi = \\frac{b \\tau}{2h}$. Получим СЛАУ с трехдиагональной матрицей.\n",
    "\n",
    "$$a_ju_{j-1}^{k+1} + b_ju_j^{k+1} + c_ju_{j+1}^{k+1} = d_j, j = 1,..,N-1$$\n",
    "$$a_j = \\theta(\\sigma + \\xi), b_j = (1 - 2\\theta \\sigma), c_j = \\theta(\\sigma - \\xi), d_j = -(u_j^k + (1-\\theta)((\\sigma + \\xi)u_{j-1}^k - 2\\sigma u_j^k + (\\sigma - \\xi)u_{j+1}^k)$$"
   ],
   "metadata": {}
  },
  {
   "cell_type": "code",
   "execution_count": 5,
   "source": [
    "class Explicit_Implicit(Grid):\n",
    "    def set_theta(self, theta):\n",
    "        self.theta = theta\n",
    "    \n",
    "    @staticmethod\n",
    "    def Tridiagonal_Algorithm(A, b):\n",
    "        P = [-item[2] for item in A]\n",
    "        Q = [item for item in b]\n",
    "    \n",
    "        P[0] /= A[0][1]\n",
    "        Q[0] /= A[0][1]\n",
    "    \n",
    "        for i in range(1, len(b)):\n",
    "            z = (A[i][1] + A[i][0] * P[i-1])\n",
    "            P[i] /= z\n",
    "            Q[i] -= A[i][0] * Q[i-1]\n",
    "            Q[i] /= z\n",
    "    \n",
    "        x = [item for item in Q]\n",
    "\n",
    "        for i in range(len(x) - 2, -1, -1):\n",
    "            x[i] += P[i] * x[i + 1]\n",
    "\n",
    "        return x\n",
    "\n",
    "    def set_line(self, t, x, prev_line):\n",
    "        a = self.theta * (self.sigma + self.xi)\n",
    "        b = -1. - 2. * self.theta * self.sigma\n",
    "        c = self.theta * (self.sigma - self.xi)\n",
    "        A = [(a, b, c) for _ in range(1, len(x) - 1)]\n",
    "        b = [-(prev_line[j] + (1. - self.theta) *\n",
    "                ((self.sigma + self.xi) * prev_line[j - 1] -\n",
    "                 2. * self.sigma * prev_line[j] + \n",
    "                 (self.sigma - self.xi) * prev_line[j + 1]))\n",
    "            for j in range(1, len(x) - 1)]\n",
    "\n",
    "        borders = self.approx.exp_imp_0(\"###\")\n",
    "\n",
    "        A.insert(0, borders[:-1])\n",
    "        b.insert(0, borders[-1])\n",
    "\n",
    "        borders = self.approx.exp_imp_l(\"###\")\n",
    "\n",
    "        A.append(borders[:-1])\n",
    "        b.append(borders[-1])\n",
    "\n",
    "        return self.Tridiagonal_Algorithm(A, b)\n",
    "        "
   ],
   "outputs": [],
   "metadata": {}
  },
  {
   "cell_type": "code",
   "execution_count": 6,
   "source": [
    "Krank_Nikolson = Explicit_Implicit"
   ],
   "outputs": [],
   "metadata": {}
  },
  {
   "cell_type": "markdown",
   "source": [
    "Аппроксимация граничных условий."
   ],
   "metadata": {}
  },
  {
   "cell_type": "code",
   "execution_count": 7,
   "source": [
    "class Approx:\n",
    "    def __init__(self, phi_0, phi_l, alpha, beta, gamma, delta):\n",
    "        self.phi_0 = phi_0\n",
    "        self.phi_l = phi_l\n",
    "        self.alpha = alpha\n",
    "        self.beta = beta\n",
    "        self.gamma = gamma\n",
    "        self.delta = delta\n",
    "        \n",
    "    def explicit_0(self, t, h, sigma, xi, u0, u1, t0):\n",
    "        pass\n",
    "    def explicit_l(self, t, h, sigma, xi, u0, u1, t0):\n",
    "        pass\n",
    "    def exp_imp_0(self, t, h, sigma, xi,  u0, theta, t0):\n",
    "        pass\n",
    "    def exp_imp_l(self, t, h, sigma, xi,  u0, theta, t0):\n",
    "        pass"
   ],
   "outputs": [],
   "metadata": {}
  },
  {
   "cell_type": "markdown",
   "source": [
    "Двухточечная аппроксимация первого порядка в точке $x = 0, x = l$:\n",
    "$$\\alpha \\frac{u_1^{k+1} - u_0^{k+1}}{h} + \\beta u_0^{k+1} = \\phi_0(t^{k+1})\\\\\n",
    "\\gamma \\frac{u_N^{k+1} - u_{N-1}^{k+1}}{h} + \\delta u_N^{k+1} = \\phi_l(t^{k+1})$$\n",
    "\n",
    "Граничные условия для $t^{k+1}$ с использованием явной схемы:\n",
    "\n",
    "$$ u_0^{k+1} = -\\frac{\\alpha / h}{\\beta - \\alpha / h} u_1^{k+1} + \\frac{\\phi_0(t^{k+1})}{\\beta - \\alpha / h}\\\\\n",
    "u_N^{k+1} = \\frac{\\gamma / h}{\\delta + \\gamma / h}u_{N-1}^{k+1} + \\frac{\\phi_l(t^{k+1})}{\\delta + \\gamma / h}$$\n",
    "\n",
    "Сначала расчиываем значения во внутренних точках, затем на границе.\n",
    "\n",
    "Граничные условия для $t^{k+1}$ с использованием явно-неявной схемы:\n",
    "\n",
    "$$b_0u_0^{k+1} + c_0u_1^{k+1} = d_0\\\\\n",
    "  a_Nu_{N-1}^{k+1} + b_Nu_N^{k+1} = d_N$$\n",
    "\n",
    "$$b_0 = \\beta - \\alpha / h, c_0 = \\alpha / h, d_0 = \\frac{\\phi_0(t^{k+1})}{\\beta - \\alpha / h}\\\\\n",
    "  a_N = -\\gamma / h, b_N = \\delta + \\gamma / h, d_N = \\frac{\\phi_l(t^{k+1})}{\\delta + \\gamma / h}$$\n"
   ],
   "metadata": {}
  },
  {
   "cell_type": "code",
   "execution_count": 8,
   "source": [
    "class approx_1_2(Approx):\n",
    "    def explicit_0(self, t, h, sigma, xi, u0, u1, t0):\n",
    "        return (-(self.alpha / h) / (self.beta - self.alpha / h) * u1[1] + \n",
    "                self.phi_0(t) / (self.beta - self.alpha / h))\n",
    "    \n",
    "    def explicit_l(self, t, h, sigma, xi, u0, u1, t0):\n",
    "        return ((self.gamma / h) / (self.delta + self.gamma / h) * u1[-2] +\n",
    "                self.phi_l(t) / (self.delta + self.gamma / h))\n",
    "\n",
    "    def exp_imp_0(self, t, h, sigma,xi,  u0, theta, t0):\n",
    "        return 0, self.beta - self.alpha / h, self.alpha / h, self.phi_0(t) / (self.beta - self.alpha / h)\n",
    "\n",
    "    def exp_imp_l(self, t, h, sigma,xi,  u0, theta, t0):\n",
    "        return -self.gamma / h, self.delta + self.gamma / h, 0, self.phi_l(t) / (self.delta + self.gamma / h)\n",
    "        \n",
    "            "
   ],
   "outputs": [],
   "metadata": {}
  },
  {
   "cell_type": "markdown",
   "source": [
    "Трёхточечная аппроксимация второго порядка:\n",
    "\n",
    "$$\\alpha \\frac{-3u_0^{k+1} + 4u_1^{k+1} - u_2^{k+1}}{2h} + \\beta u_0^{k+1} = \\phi_0(t^{k+1})\\\\\n",
    "  \\gamma \\frac{3u_N^{k+1} - 4u_1^{k+1} - u_2^{k+1}}{2h} + \\delta u_N^{k+1} = \\phi_0(t^{k+1})$$\n",
    "\n",
    "  Граничные условия для $t^{k+1}$ с использованием явной схемы:\n",
    "\n",
    "$$u_0^{k+1} = \\frac{ 2h\\phi_0(t^{k+1}) - 4\\alpha u_1^{k+1} + \\alpha u_2^{k+1} } { 2 \\beta h - 3 \\alpha }\\\\\n",
    "  u_N^{k+1} = \\frac{ 2h\\phi_l(t^{k+1}) +4\\gamma u_{N-1}^{k+1} - \\gamma u_{N-2}^{k+1} }{ 2\\delta h + 3 \\gamma }$$\n",
    "\n",
    "Граничные условия для $t^{k+1}$ с использованием явно-неявной схемы:\n",
    "\n",
    "$$b_0u_0^{k+1} + c_0u_1^{k+1} = d_0\\\\\n",
    "  a_Nu_{N-1}^{k+1} + b_Nu_N^{k+1} = d_N$$\n",
    "\n",
    "$$b_0 = \\left(-3 + \\frac{\\sigma + \\xi}{\\sigma - \\xi} + \\frac{\\beta}{\\alpha}2h\\right),\n",
    "c_0 = \\left(4 - \\frac{1 + 2 \\theta \\sigma}{\\theta(\\sigma - \\xi)}\\right),\n",
    "d_0 = \\frac{2h}{\\alpha} \\phi_0(t^{k+1}) - \\frac{(u_1^k + (1-\\theta) ((\\sigma + \\xi)u_0^k - 2\\sigma u_1^k +(\\sigma - \\xi)u_2^k) }{ \\theta(\\sigma - \\xi) }\\\\\n",
    "a_N = \\left(3 - \\frac{ \\sigma + \\xi }{ \\sigma - \\xi } + \\frac{\\delta}{\\gamma} 2h\\right),\n",
    "b_N = \\left(-4+\\frac{1 + 2\\theta \\sigma}{\\theta(\\sigma+\\xi)}\\right),\n",
    "d_N = \\frac{2h}{\\gamma}\\phi_l(t^{k+1}) + \\frac{ (u_{N-1}^k+(1-\\theta)((\\sigma + \\xi)u_{N-2}^k - 2\\sigma u_{N-1}^k +(\\sigma - \\xi)u_N^k) }{ \\theta (\\sigma + \\xi) }$$"
   ],
   "metadata": {}
  },
  {
   "cell_type": "code",
   "execution_count": 9,
   "source": [
    "class approx_2_3(Approx):\n",
    "    def explicit_0(self, t, h, sigma, xi, u0, u1, t0):\n",
    "        return (( 2. * h * self.phi_0(t) - 4. * self.alpha * u1[1] + self.alpha * u1[2] ) /\n",
    "                ( 2. * self.beta * h - 3 * self.alpha ))\n",
    "    \n",
    "    def explicit_l(self, t, h, sigma, xi, u0, u1, t0):\n",
    "        return (( 2. * h * self.phi_l(t) + 4. * self.gamma * u1[-2] - self.gamma * u1[-3] ) /\n",
    "                ( 2. * self.delta * h + 3. * self.gamma ))\n",
    "    \n",
    "    def exp_imp_0(self, t, h, sigma,xi,  u0, theta, t0):\n",
    "        b_0 = (-3. + (sigma + xi) / (sigma - xi) + self.beta / self.alpha * 2. * h)\n",
    "        c_0 = (4. - (1 + 2. * theta * sigma) / (theta * (sigma - xi)))\n",
    "        d_0 = (2. * h / self.alpha * self.phi_0(t) - \n",
    "                ( ( u0[1] + (1 - theta) * ((sigma + xi) * u0[0] - 2. * sigma * u0[1] + (sigma-xi) * u0[2]) ) /\n",
    "                  ( theta * (sigma - xi) ) ) )\n",
    "        return 0, b_0, c_0, d_0\n",
    "\n",
    "    def exp_imp_l(self, t, h, sigma, xi, u0, theta, t0):\n",
    "        a_n = (3. - (sigma + xi) / (sigma - xi) + self.delta / self.gamma * 2. * h)\n",
    "        b_n = (-4. + (1. + 2. * theta * sigma) / (theta * (sigma + xi)))\n",
    "        d_n = (2. * h / self.gamma * self.phi_l(t) + \n",
    "                ( ( u0[-2] + (1 - theta) * ((sigma + xi) * u0[-3] -  2. * sigma * u0[-2] + (sigma-xi) * u0[-1]) ) /\n",
    "                  (  theta * (sigma + xi) ) ) )\n",
    "        return a_n, b_n, 0, d_n"
   ],
   "outputs": [],
   "metadata": {}
  },
  {
   "cell_type": "code",
   "execution_count": 10,
   "source": [
    "def epsilon(x, y, z, f):\n",
    "    ans = 0.0\n",
    "    for i in range(len(z)):\n",
    "        for j in range(len(z[i])):\n",
    "            ans += (z[i][j] - f(x[i][j], y[i][j]))**2\n",
    "    return ans**0.5"
   ],
   "outputs": [],
   "metadata": {}
  },
  {
   "cell_type": "code",
   "execution_count": 11,
   "source": [
    "def get_graphic_h(solver, real_f):\n",
    "    h = []\n",
    "    e = []\n",
    "    for N in range(5, 50):\n",
    "        x, y, z = solver(N)\n",
    "        h.append(solver.h)\n",
    "        e.append(epsilon(x, y, z, real_f))\n",
    "    return h, e"
   ],
   "outputs": [],
   "metadata": {}
  },
  {
   "cell_type": "code",
   "execution_count": 12,
   "source": [
    "explicit = Explicit(T = 1, aprx_cls=approx_1_2)\n",
    "x, y, z = explicit(50, 100)\n",
    "'''\n",
    "print(y[1])\n",
    "t = y[0][1] * 499\n",
    "U_x = [U(i, t) for i in  x[1]]\n",
    "plt.plot(x[0], U_x) \n",
    "plt.plot(x[1], z[999])\n",
    "'''\n",
    "\n",
    "\n",
    "\n",
    "    \n"
   ],
   "outputs": [
    {
     "output_type": "stream",
     "name": "stdout",
     "text": [
      "[0.001001001001001001, 0.001001001001001001, 0.001001001001001001, 0.001001001001001001, 0.001001001001001001, 0.001001001001001001, 0.001001001001001001, 0.001001001001001001, 0.001001001001001001, 0.001001001001001001, 0.001001001001001001, 0.001001001001001001, 0.001001001001001001, 0.001001001001001001, 0.001001001001001001, 0.001001001001001001, 0.001001001001001001, 0.001001001001001001, 0.001001001001001001, 0.001001001001001001, 0.001001001001001001, 0.001001001001001001, 0.001001001001001001, 0.001001001001001001, 0.001001001001001001, 0.001001001001001001, 0.001001001001001001, 0.001001001001001001, 0.001001001001001001, 0.001001001001001001, 0.001001001001001001, 0.001001001001001001, 0.001001001001001001, 0.001001001001001001, 0.001001001001001001, 0.001001001001001001, 0.001001001001001001, 0.001001001001001001, 0.001001001001001001, 0.001001001001001001, 0.001001001001001001, 0.001001001001001001, 0.001001001001001001, 0.001001001001001001, 0.001001001001001001, 0.001001001001001001, 0.001001001001001001, 0.001001001001001001, 0.001001001001001001, 0.001001001001001001]\n"
     ]
    },
    {
     "output_type": "error",
     "ename": "IndexError",
     "evalue": "list index out of range",
     "traceback": [
      "\u001b[0;31m---------------------------------------------------------------------------\u001b[0m",
      "\u001b[0;31mIndexError\u001b[0m                                Traceback (most recent call last)",
      "\u001b[0;32m/tmp/ipykernel_6511/2538134423.py\u001b[0m in \u001b[0;36m<module>\u001b[0;34m\u001b[0m\n\u001b[1;32m      3\u001b[0m \u001b[0mprint\u001b[0m\u001b[0;34m(\u001b[0m\u001b[0my\u001b[0m\u001b[0;34m[\u001b[0m\u001b[0;36m1\u001b[0m\u001b[0;34m]\u001b[0m\u001b[0;34m)\u001b[0m\u001b[0;34m\u001b[0m\u001b[0;34m\u001b[0m\u001b[0m\n\u001b[1;32m      4\u001b[0m \u001b[0mt\u001b[0m \u001b[0;34m=\u001b[0m \u001b[0my\u001b[0m\u001b[0;34m[\u001b[0m\u001b[0;36m0\u001b[0m\u001b[0;34m]\u001b[0m\u001b[0;34m[\u001b[0m\u001b[0;36m1\u001b[0m\u001b[0;34m]\u001b[0m \u001b[0;34m*\u001b[0m \u001b[0;36m499\u001b[0m\u001b[0;34m\u001b[0m\u001b[0;34m\u001b[0m\u001b[0m\n\u001b[0;32m----> 5\u001b[0;31m \u001b[0mU_x\u001b[0m \u001b[0;34m=\u001b[0m \u001b[0;34m[\u001b[0m\u001b[0mU\u001b[0m\u001b[0;34m(\u001b[0m\u001b[0mi\u001b[0m\u001b[0;34m,\u001b[0m \u001b[0mt\u001b[0m\u001b[0;34m)\u001b[0m \u001b[0;32mfor\u001b[0m \u001b[0mi\u001b[0m \u001b[0;32min\u001b[0m  \u001b[0mx\u001b[0m\u001b[0;34m[\u001b[0m\u001b[0;36m1\u001b[0m\u001b[0;34m]\u001b[0m\u001b[0;34m]\u001b[0m\u001b[0;34m\u001b[0m\u001b[0;34m\u001b[0m\u001b[0m\n\u001b[0m\u001b[1;32m      6\u001b[0m \u001b[0mplt\u001b[0m\u001b[0;34m.\u001b[0m\u001b[0mplot\u001b[0m\u001b[0;34m(\u001b[0m\u001b[0mx\u001b[0m\u001b[0;34m[\u001b[0m\u001b[0;36m0\u001b[0m\u001b[0;34m]\u001b[0m\u001b[0;34m,\u001b[0m \u001b[0mU_x\u001b[0m\u001b[0;34m)\u001b[0m\u001b[0;34m\u001b[0m\u001b[0;34m\u001b[0m\u001b[0m\n\u001b[1;32m      7\u001b[0m \u001b[0mplt\u001b[0m\u001b[0;34m.\u001b[0m\u001b[0mplot\u001b[0m\u001b[0;34m(\u001b[0m\u001b[0mx\u001b[0m\u001b[0;34m[\u001b[0m\u001b[0;36m1\u001b[0m\u001b[0;34m]\u001b[0m\u001b[0;34m,\u001b[0m \u001b[0mz\u001b[0m\u001b[0;34m[\u001b[0m\u001b[0;36m999\u001b[0m\u001b[0;34m]\u001b[0m\u001b[0;34m)\u001b[0m\u001b[0;34m\u001b[0m\u001b[0;34m\u001b[0m\u001b[0m\n",
      "\u001b[0;31mIndexError\u001b[0m: list index out of range"
     ]
    }
   ],
   "metadata": {}
  },
  {
   "cell_type": "code",
   "execution_count": 13,
   "source": [
    "plt.figure(figsize = (16, 10))\n",
    "\n",
    "plt.subplot(2, 1, 1)\n",
    "plt.title(\"Зависимость погрешности от длины шага\")\n",
    "h, e = get_graphic_h(explicit, U)\n",
    "\n",
    "plt.plot(h, e, label=\"Явная\", color = \"red\")\n",
    "plt.xlabel(\"h\")\n",
    "plt.ylabel(\"e\")\n",
    "plt.ylim([0, 2.1])\n",
    "plt.xticks(list(explicit.nparange(0, 1.6, 0.1)))\n",
    "plt.yticks(list(explicit.nparange(0, 2.1, 0.2)))\n",
    "plt.legend()\n",
    "plt.grid()\n",
    "\n",
    "plt.subplot(2, 1, 2)\n",
    "plt.plot(list(map(math.log, h)), list(map(math.log, e)), label=\"Явная\")\n",
    "plt.plot([-2, 0.5], [-3, -0.5], label=\"Зависимость $O(h)$\")\n",
    "plt.plot([-2, 0.5], [-3, 2], label=\"Зависимость $O(h^2)$\")\n",
    "plt.xlabel(\"log h\")\n",
    "plt.ylabel(\"log e\")\n",
    "plt.ylim([-3, 1])\n",
    "plt.xlim([-2.1, 0.5])\n",
    "plt.xticks(list(explicit.nparange(-2, 0.5, 0.1)))\n",
    "plt.yticks(list(explicit.nparange(-3, 1, 0.2)))\n",
    "plt.legend()\n",
    "plt.grid()"
   ],
   "outputs": [
    {
     "output_type": "error",
     "ename": "IndexError",
     "evalue": "list index out of range",
     "traceback": [
      "\u001b[0;31m---------------------------------------------------------------------------\u001b[0m",
      "\u001b[0;31mIndexError\u001b[0m                                Traceback (most recent call last)",
      "\u001b[0;32m/tmp/ipykernel_6511/121375393.py\u001b[0m in \u001b[0;36m<module>\u001b[0;34m\u001b[0m\n\u001b[1;32m      3\u001b[0m \u001b[0mplt\u001b[0m\u001b[0;34m.\u001b[0m\u001b[0msubplot\u001b[0m\u001b[0;34m(\u001b[0m\u001b[0;36m2\u001b[0m\u001b[0;34m,\u001b[0m \u001b[0;36m1\u001b[0m\u001b[0;34m,\u001b[0m \u001b[0;36m1\u001b[0m\u001b[0;34m)\u001b[0m\u001b[0;34m\u001b[0m\u001b[0;34m\u001b[0m\u001b[0m\n\u001b[1;32m      4\u001b[0m \u001b[0mplt\u001b[0m\u001b[0;34m.\u001b[0m\u001b[0mtitle\u001b[0m\u001b[0;34m(\u001b[0m\u001b[0;34m\"Зависимость погрешности от длины шага\"\u001b[0m\u001b[0;34m)\u001b[0m\u001b[0;34m\u001b[0m\u001b[0;34m\u001b[0m\u001b[0m\n\u001b[0;32m----> 5\u001b[0;31m \u001b[0mh\u001b[0m\u001b[0;34m,\u001b[0m \u001b[0me\u001b[0m \u001b[0;34m=\u001b[0m \u001b[0mget_graphic_h\u001b[0m\u001b[0;34m(\u001b[0m\u001b[0mexplicit\u001b[0m\u001b[0;34m,\u001b[0m \u001b[0mU\u001b[0m\u001b[0;34m)\u001b[0m\u001b[0;34m\u001b[0m\u001b[0;34m\u001b[0m\u001b[0m\n\u001b[0m\u001b[1;32m      6\u001b[0m \u001b[0;34m\u001b[0m\u001b[0m\n\u001b[1;32m      7\u001b[0m \u001b[0mplt\u001b[0m\u001b[0;34m.\u001b[0m\u001b[0mplot\u001b[0m\u001b[0;34m(\u001b[0m\u001b[0mh\u001b[0m\u001b[0;34m,\u001b[0m \u001b[0me\u001b[0m\u001b[0;34m,\u001b[0m \u001b[0mlabel\u001b[0m\u001b[0;34m=\u001b[0m\u001b[0;34m\"Явная\"\u001b[0m\u001b[0;34m,\u001b[0m \u001b[0mcolor\u001b[0m \u001b[0;34m=\u001b[0m \u001b[0;34m\"red\"\u001b[0m\u001b[0;34m)\u001b[0m\u001b[0;34m\u001b[0m\u001b[0;34m\u001b[0m\u001b[0m\n",
      "\u001b[0;32m/tmp/ipykernel_6511/1583327283.py\u001b[0m in \u001b[0;36mget_graphic_h\u001b[0;34m(solver, real_f)\u001b[0m\n\u001b[1;32m      5\u001b[0m         \u001b[0mx\u001b[0m\u001b[0;34m,\u001b[0m \u001b[0my\u001b[0m\u001b[0;34m,\u001b[0m \u001b[0mz\u001b[0m \u001b[0;34m=\u001b[0m \u001b[0msolver\u001b[0m\u001b[0;34m(\u001b[0m\u001b[0mN\u001b[0m\u001b[0;34m)\u001b[0m\u001b[0;34m\u001b[0m\u001b[0;34m\u001b[0m\u001b[0m\n\u001b[1;32m      6\u001b[0m         \u001b[0mh\u001b[0m\u001b[0;34m.\u001b[0m\u001b[0mappend\u001b[0m\u001b[0;34m(\u001b[0m\u001b[0msolver\u001b[0m\u001b[0;34m.\u001b[0m\u001b[0mh\u001b[0m\u001b[0;34m)\u001b[0m\u001b[0;34m\u001b[0m\u001b[0;34m\u001b[0m\u001b[0m\n\u001b[0;32m----> 7\u001b[0;31m         \u001b[0me\u001b[0m\u001b[0;34m.\u001b[0m\u001b[0mappend\u001b[0m\u001b[0;34m(\u001b[0m\u001b[0mepsilon\u001b[0m\u001b[0;34m(\u001b[0m\u001b[0mx\u001b[0m\u001b[0;34m,\u001b[0m \u001b[0my\u001b[0m\u001b[0;34m,\u001b[0m \u001b[0mz\u001b[0m\u001b[0;34m,\u001b[0m \u001b[0mreal_f\u001b[0m\u001b[0;34m)\u001b[0m\u001b[0;34m)\u001b[0m\u001b[0;34m\u001b[0m\u001b[0;34m\u001b[0m\u001b[0m\n\u001b[0m\u001b[1;32m      8\u001b[0m     \u001b[0;32mreturn\u001b[0m \u001b[0mh\u001b[0m\u001b[0;34m,\u001b[0m \u001b[0me\u001b[0m\u001b[0;34m\u001b[0m\u001b[0;34m\u001b[0m\u001b[0m\n",
      "\u001b[0;32m/tmp/ipykernel_6511/2438548033.py\u001b[0m in \u001b[0;36mepsilon\u001b[0;34m(x, y, z, f)\u001b[0m\n\u001b[1;32m      3\u001b[0m     \u001b[0;32mfor\u001b[0m \u001b[0mi\u001b[0m \u001b[0;32min\u001b[0m \u001b[0mrange\u001b[0m\u001b[0;34m(\u001b[0m\u001b[0mlen\u001b[0m\u001b[0;34m(\u001b[0m\u001b[0mz\u001b[0m\u001b[0;34m)\u001b[0m\u001b[0;34m)\u001b[0m\u001b[0;34m:\u001b[0m\u001b[0;34m\u001b[0m\u001b[0;34m\u001b[0m\u001b[0m\n\u001b[1;32m      4\u001b[0m         \u001b[0;32mfor\u001b[0m \u001b[0mj\u001b[0m \u001b[0;32min\u001b[0m \u001b[0mrange\u001b[0m\u001b[0;34m(\u001b[0m\u001b[0mlen\u001b[0m\u001b[0;34m(\u001b[0m\u001b[0mz\u001b[0m\u001b[0;34m[\u001b[0m\u001b[0mi\u001b[0m\u001b[0;34m]\u001b[0m\u001b[0;34m)\u001b[0m\u001b[0;34m)\u001b[0m\u001b[0;34m:\u001b[0m\u001b[0;34m\u001b[0m\u001b[0;34m\u001b[0m\u001b[0m\n\u001b[0;32m----> 5\u001b[0;31m             \u001b[0mans\u001b[0m \u001b[0;34m+=\u001b[0m \u001b[0;34m(\u001b[0m\u001b[0mz\u001b[0m\u001b[0;34m[\u001b[0m\u001b[0mi\u001b[0m\u001b[0;34m]\u001b[0m\u001b[0;34m[\u001b[0m\u001b[0mj\u001b[0m\u001b[0;34m]\u001b[0m \u001b[0;34m-\u001b[0m \u001b[0mf\u001b[0m\u001b[0;34m(\u001b[0m\u001b[0mx\u001b[0m\u001b[0;34m[\u001b[0m\u001b[0mi\u001b[0m\u001b[0;34m]\u001b[0m\u001b[0;34m[\u001b[0m\u001b[0mj\u001b[0m\u001b[0;34m]\u001b[0m\u001b[0;34m,\u001b[0m \u001b[0my\u001b[0m\u001b[0;34m[\u001b[0m\u001b[0mi\u001b[0m\u001b[0;34m]\u001b[0m\u001b[0;34m[\u001b[0m\u001b[0mj\u001b[0m\u001b[0;34m]\u001b[0m\u001b[0;34m)\u001b[0m\u001b[0;34m)\u001b[0m\u001b[0;34m**\u001b[0m\u001b[0;36m2\u001b[0m\u001b[0;34m\u001b[0m\u001b[0;34m\u001b[0m\u001b[0m\n\u001b[0m\u001b[1;32m      6\u001b[0m     \u001b[0;32mreturn\u001b[0m \u001b[0mans\u001b[0m\u001b[0;34m**\u001b[0m\u001b[0;36m0.5\u001b[0m\u001b[0;34m\u001b[0m\u001b[0;34m\u001b[0m\u001b[0m\n",
      "\u001b[0;31mIndexError\u001b[0m: list index out of range"
     ]
    },
    {
     "output_type": "display_data",
     "data": {
      "image/png": "[encoded data removed]",
      "text/plain": [
       "<Figure size 1152x720 with 1 Axes>"
      ]
     },
     "metadata": {
      "needs_background": "light"
     }
    }
   ],
   "metadata": {}
  }
 ],
 "metadata": {
  "orig_nbformat": 4,
  "language_info": {
   "name": "python",
   "version": "3.8.10",
   "mimetype": "text/x-python",
   "codemirror_mode": {
    "name": "ipython",
    "version": 3
   },
   "pygments_lexer": "ipython3",
   "nbconvert_exporter": "python",
   "file_extension": ".py"
  },
  "kernelspec": {
   "name": "python3",
   "display_name": "Python 3.8.10 64-bit"
  },
  "interpreter": {
   "hash": "31f2aee4e71d21fbe5cf8b01ff0e069b9275f58929596ceb00d14d90e3e16cd6"
  }
 },
 "nbformat": 4,
 "nbformat_minor": 2
}